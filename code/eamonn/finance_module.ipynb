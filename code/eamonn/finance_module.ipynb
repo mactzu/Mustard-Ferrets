{
 "cells": [
  {
   "cell_type": "code",
   "execution_count": 2,
   "metadata": {},
   "outputs": [],
   "source": [
    "import yfinance as yf\n",
    "%matplotlib inline\n",
    "import matplotlib.pyplot as plt\n",
    "import seaborn; seaborn.set()\n",
    "import numpy as np\n",
    "import pandas as pd \n",
    "from pandas_datareader import data"
   ]
  },
  {
   "cell_type": "code",
   "execution_count": 3,
   "metadata": {},
   "outputs": [],
   "source": [
    "#stock_list = yf.Ticker[\"ANZ.AX\", \"WBC.AX\", \"CBA.AX\", \"NAB.AX\", \"MQG.AX\"]"
   ]
  },
  {
   "cell_type": "code",
   "execution_count": 4,
   "metadata": {},
   "outputs": [],
   "source": [
    "#hist = stock_list.history"
   ]
  },
  {
   "cell_type": "code",
   "execution_count": 7,
   "metadata": {},
   "outputs": [
    {
     "name": "stdout",
     "output_type": "stream",
     "text": [
      "[*********************100%***********************]  5 of 5 completed\n"
     ]
    }
   ],
   "source": [
    "fin_stk = yf.download(  # or pdr.get_data_yahoo(...\n",
    "        # tickers list or string as well\n",
    "        tickers = \"ANZ.AX WBC.AX CBA.AX NAB.AX MQG.AX\",\n",
    "\n",
    "        # use \"period\" instead of start/end\n",
    "        # valid periods: 1d,5d,1mo,3mo,6mo,1y,2y,5y,10y,ytd,max\n",
    "        # (optional, default is '1mo')\n",
    "        period = \"6mo\",\n",
    "\n",
    "        # fetch data by interval (including intraday if period < 60 days)\n",
    "        # valid intervals: 1m,2m,5m,15m,30m,60m,90m,1h,1d,5d,1wk,1mo,3mo\n",
    "        # (optional, default is '1d')\n",
    "        interval = \"1d\",\n",
    "\n",
    "        # group by ticker (to access via data['SPY'])\n",
    "        # (optional, default is 'column')\n",
    "        group_by = 'ticker',\n",
    "\n",
    "        # adjust all OHLC automatically\n",
    "        # (optional, default is False)\n",
    "        auto_adjust = True,\n",
    "\n",
    "        # download pre/post regular market hours data\n",
    "        # (optional, default is False)\n",
    "        prepost = True,\n",
    "\n",
    "        # use threads for mass downloading? (True/False/Integer)\n",
    "        # (optional, default is True)\n",
    "        threads = True,\n",
    "\n",
    "        # proxy URL scheme use use when downloading?\n",
    "        # (optional, default is None)\n",
    "        proxy = None\n",
    "    )"
   ]
  },
  {
   "cell_type": "code",
   "execution_count": 9,
   "metadata": {},
   "outputs": [
    {
     "name": "stdout",
     "output_type": "stream",
     "text": [
      "<class 'pandas.core.frame.DataFrame'>\n",
      "DatetimeIndex: 127 entries, 2020-01-07 to 2020-07-07\n",
      "Data columns (total 25 columns):\n",
      " #   Column            Non-Null Count  Dtype  \n",
      "---  ------            --------------  -----  \n",
      " 0   (MQG.AX, Open)    127 non-null    float64\n",
      " 1   (MQG.AX, High)    127 non-null    float64\n",
      " 2   (MQG.AX, Low)     127 non-null    float64\n",
      " 3   (MQG.AX, Close)   127 non-null    float64\n",
      " 4   (MQG.AX, Volume)  127 non-null    int64  \n",
      " 5   (CBA.AX, Open)    127 non-null    float64\n",
      " 6   (CBA.AX, High)    127 non-null    float64\n",
      " 7   (CBA.AX, Low)     127 non-null    float64\n",
      " 8   (CBA.AX, Close)   127 non-null    float64\n",
      " 9   (CBA.AX, Volume)  127 non-null    int64  \n",
      " 10  (WBC.AX, Open)    127 non-null    float64\n",
      " 11  (WBC.AX, High)    127 non-null    float64\n",
      " 12  (WBC.AX, Low)     127 non-null    float64\n",
      " 13  (WBC.AX, Close)   127 non-null    float64\n",
      " 14  (WBC.AX, Volume)  127 non-null    int64  \n",
      " 15  (ANZ.AX, Open)    127 non-null    float64\n",
      " 16  (ANZ.AX, High)    127 non-null    float64\n",
      " 17  (ANZ.AX, Low)     127 non-null    float64\n",
      " 18  (ANZ.AX, Close)   127 non-null    float64\n",
      " 19  (ANZ.AX, Volume)  127 non-null    int64  \n",
      " 20  (NAB.AX, Open)    127 non-null    float64\n",
      " 21  (NAB.AX, High)    127 non-null    float64\n",
      " 22  (NAB.AX, Low)     127 non-null    float64\n",
      " 23  (NAB.AX, Close)   127 non-null    float64\n",
      " 24  (NAB.AX, Volume)  127 non-null    int64  \n",
      "dtypes: float64(20), int64(5)\n",
      "memory usage: 25.8 KB\n"
     ]
    }
   ],
   "source": [
    "fin_stk.info()"
   ]
  },
  {
   "cell_type": "code",
   "execution_count": null,
   "metadata": {},
   "outputs": [],
   "source": []
  },
  {
   "cell_type": "code",
   "execution_count": 10,
   "metadata": {},
   "outputs": [],
   "source": [
    "nab_stk = fin_stk.iloc[:,23]\n",
    "maq_stk = fin_stk.iloc[:,3]\n",
    "anz_stk = fin_stk.iloc[:,18]\n",
    "wst_stk = fin_stk.iloc[:,13]\n",
    "cba_stk = fin_stk.iloc[:,8]"
   ]
  },
  {
   "cell_type": "code",
   "execution_count": 11,
   "metadata": {},
   "outputs": [
    {
     "data": {
      "text/html": [
       "<div>\n",
       "<style scoped>\n",
       "    .dataframe tbody tr th:only-of-type {\n",
       "        vertical-align: middle;\n",
       "    }\n",
       "\n",
       "    .dataframe tbody tr th {\n",
       "        vertical-align: top;\n",
       "    }\n",
       "\n",
       "    .dataframe thead th {\n",
       "        text-align: right;\n",
       "    }\n",
       "</style>\n",
       "<table border=\"1\" class=\"dataframe\">\n",
       "  <thead>\n",
       "    <tr style=\"text-align: right;\">\n",
       "      <th></th>\n",
       "      <th>Nab Close</th>\n",
       "      <th>CBA Close</th>\n",
       "      <th>ANZ Close</th>\n",
       "      <th>Westpac Close</th>\n",
       "      <th>Maq Close</th>\n",
       "    </tr>\n",
       "    <tr>\n",
       "      <th>Date</th>\n",
       "      <th></th>\n",
       "      <th></th>\n",
       "      <th></th>\n",
       "      <th></th>\n",
       "      <th></th>\n",
       "    </tr>\n",
       "  </thead>\n",
       "  <tbody>\n",
       "    <tr>\n",
       "      <th>2020-01-07</th>\n",
       "      <td>24.459551</td>\n",
       "      <td>79.400749</td>\n",
       "      <td>24.950001</td>\n",
       "      <td>24.620001</td>\n",
       "      <td>137.120224</td>\n",
       "    </tr>\n",
       "    <tr>\n",
       "      <th>2020-01-08</th>\n",
       "      <td>24.380966</td>\n",
       "      <td>79.107399</td>\n",
       "      <td>24.860001</td>\n",
       "      <td>24.540001</td>\n",
       "      <td>136.127533</td>\n",
       "    </tr>\n",
       "    <tr>\n",
       "      <th>2020-01-09</th>\n",
       "      <td>24.390789</td>\n",
       "      <td>79.684326</td>\n",
       "      <td>24.889999</td>\n",
       "      <td>24.469999</td>\n",
       "      <td>136.746735</td>\n",
       "    </tr>\n",
       "    <tr>\n",
       "      <th>2020-01-10</th>\n",
       "      <td>24.489021</td>\n",
       "      <td>80.671951</td>\n",
       "      <td>25.120001</td>\n",
       "      <td>24.650000</td>\n",
       "      <td>137.945847</td>\n",
       "    </tr>\n",
       "    <tr>\n",
       "      <th>2020-01-13</th>\n",
       "      <td>24.489021</td>\n",
       "      <td>80.652397</td>\n",
       "      <td>25.010000</td>\n",
       "      <td>24.590000</td>\n",
       "      <td>137.110397</td>\n",
       "    </tr>\n",
       "    <tr>\n",
       "      <th>...</th>\n",
       "      <td>...</td>\n",
       "      <td>...</td>\n",
       "      <td>...</td>\n",
       "      <td>...</td>\n",
       "      <td>...</td>\n",
       "    </tr>\n",
       "    <tr>\n",
       "      <th>2020-07-01</th>\n",
       "      <td>18.559999</td>\n",
       "      <td>69.879997</td>\n",
       "      <td>18.879999</td>\n",
       "      <td>18.280001</td>\n",
       "      <td>120.739998</td>\n",
       "    </tr>\n",
       "    <tr>\n",
       "      <th>2020-07-02</th>\n",
       "      <td>18.900000</td>\n",
       "      <td>71.099998</td>\n",
       "      <td>19.260000</td>\n",
       "      <td>18.610001</td>\n",
       "      <td>121.959999</td>\n",
       "    </tr>\n",
       "    <tr>\n",
       "      <th>2020-07-03</th>\n",
       "      <td>18.740000</td>\n",
       "      <td>71.570000</td>\n",
       "      <td>19.190001</td>\n",
       "      <td>18.540001</td>\n",
       "      <td>122.019997</td>\n",
       "    </tr>\n",
       "    <tr>\n",
       "      <th>2020-07-06</th>\n",
       "      <td>18.700001</td>\n",
       "      <td>71.419998</td>\n",
       "      <td>19.120001</td>\n",
       "      <td>18.450001</td>\n",
       "      <td>123.820000</td>\n",
       "    </tr>\n",
       "    <tr>\n",
       "      <th>2020-07-07</th>\n",
       "      <td>18.340000</td>\n",
       "      <td>71.239998</td>\n",
       "      <td>18.809999</td>\n",
       "      <td>18.160000</td>\n",
       "      <td>122.800003</td>\n",
       "    </tr>\n",
       "  </tbody>\n",
       "</table>\n",
       "<p>127 rows × 5 columns</p>\n",
       "</div>"
      ],
      "text/plain": [
       "            Nab Close  CBA Close  ANZ Close  Westpac Close   Maq Close\n",
       "Date                                                                  \n",
       "2020-01-07  24.459551  79.400749  24.950001      24.620001  137.120224\n",
       "2020-01-08  24.380966  79.107399  24.860001      24.540001  136.127533\n",
       "2020-01-09  24.390789  79.684326  24.889999      24.469999  136.746735\n",
       "2020-01-10  24.489021  80.671951  25.120001      24.650000  137.945847\n",
       "2020-01-13  24.489021  80.652397  25.010000      24.590000  137.110397\n",
       "...               ...        ...        ...            ...         ...\n",
       "2020-07-01  18.559999  69.879997  18.879999      18.280001  120.739998\n",
       "2020-07-02  18.900000  71.099998  19.260000      18.610001  121.959999\n",
       "2020-07-03  18.740000  71.570000  19.190001      18.540001  122.019997\n",
       "2020-07-06  18.700001  71.419998  19.120001      18.450001  123.820000\n",
       "2020-07-07  18.340000  71.239998  18.809999      18.160000  122.800003\n",
       "\n",
       "[127 rows x 5 columns]"
      ]
     },
     "execution_count": 11,
     "metadata": {},
     "output_type": "execute_result"
    }
   ],
   "source": [
    "fin_stk_cl= pd.DataFrame({\"Nab Close\":nab_stk, \n",
    "                          \"CBA Close\": cba_stk,\n",
    "                         \"ANZ Close\": anz_stk,\n",
    "                         \"Westpac Close\":wst_stk,\n",
    "                         \"Maq Close\": maq_stk})\n",
    "fin_stk_cl"
   ]
  },
  {
   "cell_type": "code",
   "execution_count": 15,
   "metadata": {},
   "outputs": [],
   "source": [
    "fin_stk_cl.to_csv(\"tofivestk.csv\", sep=\",\")"
   ]
  },
  {
   "cell_type": "code",
   "execution_count": 21,
   "metadata": {},
   "outputs": [],
   "source": [
    "five_stk = pd.read_csv(\"tofivestk.csv\")\n"
   ]
  },
  {
   "cell_type": "code",
   "execution_count": 23,
   "metadata": {},
   "outputs": [
    {
     "data": {
      "text/plain": [
       "<matplotlib.axes._subplots.AxesSubplot at 0x7f8a79271eb8>"
      ]
     },
     "execution_count": 23,
     "metadata": {},
     "output_type": "execute_result"
    },
    {
     "data": {
      "image/png": "[encoded data removed]",
      "text/plain": [
       "<Figure size 432x288 with 1 Axes>"
      ]
     },
     "metadata": {},
     "output_type": "display_data"
    }
   ],
   "source": [
    "five_stk.plot(alpha=0.5)\n"
   ]
  },
  {
   "cell_type": "code",
   "execution_count": null,
   "metadata": {},
   "outputs": [],
   "source": []
  },
  {
   "cell_type": "code",
   "execution_count": null,
   "metadata": {},
   "outputs": [],
   "source": []
  }
 ],
 "metadata": {
  "kernelspec": {
   "display_name": "Python 3",
   "language": "python",
   "name": "python3"
  },
  "language_info": {
   "codemirror_mode": {
    "name": "ipython",
    "version": 3
   },
   "file_extension": ".py",
   "mimetype": "text/x-python",
   "name": "python",
   "nbconvert_exporter": "python",
   "pygments_lexer": "ipython3",
   "version": "3.6.10"
  }
 },
 "nbformat": 4,
 "nbformat_minor": 4
}
